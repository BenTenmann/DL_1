{
 "cells": [
  {
   "cell_type": "code",
   "execution_count": 1,
   "metadata": {},
   "outputs": [],
   "source": [
    "import numpy as np\n",
    "import tensorflow as tf\n",
    "from tensorflow import keras\n",
    "from tensorflow.keras.models import Sequential\n",
    "from tensorflow.keras.layers import Dense, MaxPooling2D, Conv2D, Flatten\n",
    "from tensorflow.keras.optimizers import Adam, Adagrad, RMSprop\n",
    "from tensorflow.keras.metrics import categorical_crossentropy\n",
    "import matplotlib.pyplot as plt\n",
    "import seaborn as sns\n",
    "import pandas as pd"
   ]
  },
  {
   "cell_type": "code",
   "execution_count": 2,
   "metadata": {},
   "outputs": [],
   "source": [
    "(x_train, y_train), (x_test, y_test) = keras.datasets.mnist.load_data()\n",
    "x_train = x_train.reshape((60000, 28*28))\n",
    "x_train = x_train / 255\n",
    "x_test = x_test.reshape((10000, 28*28))\n",
    "x_test = x_test / 255"
   ]
  },
  {
   "cell_type": "code",
   "execution_count": 3,
   "metadata": {},
   "outputs": [],
   "source": [
    "x_train = x_train.reshape((60000, 28, 28, 1))\n",
    "x_test = x_test.reshape((10000, 28, 28, 1))"
   ]
  },
  {
   "cell_type": "code",
   "execution_count": 4,
   "metadata": {
    "collapsed": true,
    "jupyter": {
     "outputs_hidden": true
    }
   },
   "outputs": [
    {
     "name": "stdout",
     "output_type": "stream",
     "text": [
      "Epoch 1/20\n",
      "422/422 [==============================] - 6s 15ms/step - loss: 0.2151 - accuracy: 0.9377 - val_loss: 0.0678 - val_accuracy: 0.9812\n",
      "Epoch 2/20\n",
      "422/422 [==============================] - 7s 16ms/step - loss: 0.0626 - accuracy: 0.9818 - val_loss: 0.0516 - val_accuracy: 0.9847\n",
      "Epoch 3/20\n",
      "422/422 [==============================] - 7s 17ms/step - loss: 0.0414 - accuracy: 0.9866 - val_loss: 0.0483 - val_accuracy: 0.9870\n",
      "Epoch 4/20\n",
      "422/422 [==============================] - 8s 18ms/step - loss: 0.0307 - accuracy: 0.9904 - val_loss: 0.0397 - val_accuracy: 0.9893\n",
      "Epoch 5/20\n",
      "422/422 [==============================] - 7s 17ms/step - loss: 0.0227 - accuracy: 0.9931 - val_loss: 0.0440 - val_accuracy: 0.9887\n",
      "Epoch 6/20\n",
      "422/422 [==============================] - 7s 17ms/step - loss: 0.0160 - accuracy: 0.9949 - val_loss: 0.0476 - val_accuracy: 0.9883\n",
      "Epoch 7/20\n",
      "422/422 [==============================] - 7s 17ms/step - loss: 0.0138 - accuracy: 0.9955 - val_loss: 0.0480 - val_accuracy: 0.9887\n",
      "Epoch 8/20\n",
      "422/422 [==============================] - 7s 18ms/step - loss: 0.0106 - accuracy: 0.9965 - val_loss: 0.0469 - val_accuracy: 0.9883\n",
      "Epoch 9/20\n",
      "422/422 [==============================] - 8s 18ms/step - loss: 0.0079 - accuracy: 0.9975 - val_loss: 0.0481 - val_accuracy: 0.9897\n",
      "Epoch 10/20\n",
      "422/422 [==============================] - 8s 18ms/step - loss: 0.0065 - accuracy: 0.9981 - val_loss: 0.0536 - val_accuracy: 0.9887\n",
      "Epoch 11/20\n",
      "422/422 [==============================] - 8s 18ms/step - loss: 0.0043 - accuracy: 0.9988 - val_loss: 0.0492 - val_accuracy: 0.9903\n",
      "Epoch 12/20\n",
      "422/422 [==============================] - 8s 18ms/step - loss: 0.0050 - accuracy: 0.9983 - val_loss: 0.0491 - val_accuracy: 0.9903\n",
      "Epoch 13/20\n",
      "422/422 [==============================] - 8s 18ms/step - loss: 0.0068 - accuracy: 0.9977 - val_loss: 0.0606 - val_accuracy: 0.9882\n",
      "Epoch 14/20\n",
      "422/422 [==============================] - 8s 18ms/step - loss: 0.0044 - accuracy: 0.9987 - val_loss: 0.0519 - val_accuracy: 0.9890\n",
      "Epoch 15/20\n",
      "422/422 [==============================] - 8s 19ms/step - loss: 0.0028 - accuracy: 0.9993 - val_loss: 0.0452 - val_accuracy: 0.9898\n",
      "Epoch 16/20\n",
      "422/422 [==============================] - 8s 19ms/step - loss: 0.0028 - accuracy: 0.9991 - val_loss: 0.0480 - val_accuracy: 0.9912\n",
      "Epoch 17/20\n",
      "422/422 [==============================] - 8s 19ms/step - loss: 0.0038 - accuracy: 0.9988 - val_loss: 0.0576 - val_accuracy: 0.9888\n",
      "Epoch 18/20\n",
      "422/422 [==============================] - 8s 19ms/step - loss: 0.0037 - accuracy: 0.9989 - val_loss: 0.0520 - val_accuracy: 0.9887\n",
      "Epoch 19/20\n",
      "422/422 [==============================] - 8s 19ms/step - loss: 0.0044 - accuracy: 0.9985 - val_loss: 0.0488 - val_accuracy: 0.9907\n",
      "Epoch 20/20\n",
      "422/422 [==============================] - 8s 20ms/step - loss: 0.0022 - accuracy: 0.9993 - val_loss: 0.0507 - val_accuracy: 0.9903\n"
     ]
    }
   ],
   "source": [
    "modelAdam = Sequential([\n",
    "    Conv2D(filters=32, kernel_size=(5,5), activation='relu', input_shape=(28,28,1)),\n",
    "    MaxPooling2D(pool_size=(2,2)),\n",
    "    Flatten(),\n",
    "    Dense(units=128, activation='relu'),\n",
    "    Dense(units=10, activation='softmax')\n",
    "])\n",
    "modelAdam.compile(optimizer=Adam(learning_rate=0.001), loss='sparse_categorical_crossentropy', metrics=['accuracy'])\n",
    "\n",
    "batch_size = 128\n",
    "n_epoch = 20\n",
    "history = modelAdam.fit(x_train, y_train, validation_split = 0.1, batch_size=batch_size, epochs=n_epoch)\n",
    "\n",
    "T = pd.DataFrame(history.history)"
   ]
  },
  {
   "cell_type": "code",
   "execution_count": 5,
   "metadata": {
    "collapsed": true,
    "jupyter": {
     "outputs_hidden": true
    }
   },
   "outputs": [
    {
     "name": "stdout",
     "output_type": "stream",
     "text": [
      "Epoch 1/20\n",
      "422/422 [==============================] - 8s 20ms/step - loss: 1.9381 - accuracy: 0.5176 - val_loss: 1.3243 - val_accuracy: 0.7905\n",
      "Epoch 2/20\n",
      "422/422 [==============================] - 9s 21ms/step - loss: 0.9288 - accuracy: 0.8153 - val_loss: 0.5921 - val_accuracy: 0.8825\n",
      "Epoch 3/20\n",
      "422/422 [==============================] - 9s 21ms/step - loss: 0.5687 - accuracy: 0.8607 - val_loss: 0.4199 - val_accuracy: 0.9030\n",
      "Epoch 4/20\n",
      "422/422 [==============================] - 9s 21ms/step - loss: 0.4600 - accuracy: 0.8800 - val_loss: 0.3537 - val_accuracy: 0.9127\n",
      "Epoch 5/20\n",
      "422/422 [==============================] - 9s 21ms/step - loss: 0.4083 - accuracy: 0.8894 - val_loss: 0.3168 - val_accuracy: 0.9183\n",
      "Epoch 6/20\n",
      "422/422 [==============================] - 9s 22ms/step - loss: 0.3768 - accuracy: 0.8962 - val_loss: 0.2936 - val_accuracy: 0.9223\n",
      "Epoch 7/20\n",
      "422/422 [==============================] - 9s 21ms/step - loss: 0.3548 - accuracy: 0.9007 - val_loss: 0.2765 - val_accuracy: 0.9275\n",
      "Epoch 8/20\n",
      "422/422 [==============================] - 9s 21ms/step - loss: 0.3380 - accuracy: 0.9048 - val_loss: 0.2642 - val_accuracy: 0.9283\n",
      "Epoch 9/20\n",
      "422/422 [==============================] - 9s 21ms/step - loss: 0.3244 - accuracy: 0.9078 - val_loss: 0.2539 - val_accuracy: 0.9310\n",
      "Epoch 10/20\n",
      "422/422 [==============================] - 9s 22ms/step - loss: 0.3129 - accuracy: 0.9107 - val_loss: 0.2443 - val_accuracy: 0.9343\n",
      "Epoch 11/20\n",
      "422/422 [==============================] - 9s 22ms/step - loss: 0.3029 - accuracy: 0.9130 - val_loss: 0.2369 - val_accuracy: 0.9358\n",
      "Epoch 12/20\n",
      "422/422 [==============================] - 9s 22ms/step - loss: 0.2938 - accuracy: 0.9156 - val_loss: 0.2301 - val_accuracy: 0.9370\n",
      "Epoch 13/20\n",
      "422/422 [==============================] - 9s 22ms/step - loss: 0.2855 - accuracy: 0.9181 - val_loss: 0.2238 - val_accuracy: 0.9378\n",
      "Epoch 14/20\n",
      "422/422 [==============================] - 9s 22ms/step - loss: 0.2779 - accuracy: 0.9204 - val_loss: 0.2188 - val_accuracy: 0.9397\n",
      "Epoch 15/20\n",
      "422/422 [==============================] - 9s 22ms/step - loss: 0.2709 - accuracy: 0.9220 - val_loss: 0.2123 - val_accuracy: 0.9430\n",
      "Epoch 16/20\n",
      "422/422 [==============================] - 10s 23ms/step - loss: 0.2641 - accuracy: 0.9245 - val_loss: 0.2071 - val_accuracy: 0.9435\n",
      "Epoch 17/20\n",
      "422/422 [==============================] - 10s 24ms/step - loss: 0.2578 - accuracy: 0.9259 - val_loss: 0.2030 - val_accuracy: 0.9450\n",
      "Epoch 18/20\n",
      "422/422 [==============================] - 10s 24ms/step - loss: 0.2520 - accuracy: 0.9273 - val_loss: 0.1978 - val_accuracy: 0.9467\n",
      "Epoch 19/20\n",
      "422/422 [==============================] - 10s 23ms/step - loss: 0.2463 - accuracy: 0.9290 - val_loss: 0.1942 - val_accuracy: 0.9473\n",
      "Epoch 20/20\n",
      "422/422 [==============================] - 10s 23ms/step - loss: 0.2408 - accuracy: 0.9304 - val_loss: 0.1896 - val_accuracy: 0.9497\n"
     ]
    }
   ],
   "source": [
    "modelAdagrad = Sequential([\n",
    "    Conv2D(filters=32, kernel_size=(5,5), activation='relu', input_shape=(28,28,1)),\n",
    "    MaxPooling2D(pool_size=(2,2)),\n",
    "    Flatten(),\n",
    "    Dense(units=128, activation='relu'),\n",
    "    Dense(units=10, activation='softmax')\n",
    "])\n",
    "modelAdagrad.compile(optimizer=Adagrad(learning_rate=0.001), loss='sparse_categorical_crossentropy', metrics=['accuracy'])\n",
    "\n",
    "batch_size = 128\n",
    "n_epoch = 20\n",
    "history = modelAdagrad.fit(x_train, y_train, validation_split = 0.1, batch_size=batch_size, epochs=n_epoch)\n",
    "\n",
    "T = T.append(pd.DataFrame(history.history))"
   ]
  },
  {
   "cell_type": "code",
   "execution_count": 6,
   "metadata": {
    "collapsed": true,
    "jupyter": {
     "outputs_hidden": true
    }
   },
   "outputs": [
    {
     "name": "stdout",
     "output_type": "stream",
     "text": [
      "Epoch 1/20\n",
      "422/422 [==============================] - 10s 23ms/step - loss: 0.2100 - accuracy: 0.9349 - val_loss: 0.0630 - val_accuracy: 0.9825\n",
      "Epoch 2/20\n",
      "422/422 [==============================] - 10s 24ms/step - loss: 0.0597 - accuracy: 0.9810 - val_loss: 0.0503 - val_accuracy: 0.9868\n",
      "Epoch 3/20\n",
      "422/422 [==============================] - 10s 24ms/step - loss: 0.0384 - accuracy: 0.9882 - val_loss: 0.0476 - val_accuracy: 0.9880\n",
      "Epoch 4/20\n",
      "422/422 [==============================] - 9s 22ms/step - loss: 0.0270 - accuracy: 0.9916 - val_loss: 0.0460 - val_accuracy: 0.9887\n",
      "Epoch 5/20\n",
      "422/422 [==============================] - 10s 23ms/step - loss: 0.0200 - accuracy: 0.9938 - val_loss: 0.0408 - val_accuracy: 0.9892\n",
      "Epoch 6/20\n",
      "422/422 [==============================] - 10s 24ms/step - loss: 0.0153 - accuracy: 0.9949 - val_loss: 0.0462 - val_accuracy: 0.9897\n",
      "Epoch 7/20\n",
      "422/422 [==============================] - 10s 24ms/step - loss: 0.0117 - accuracy: 0.9965 - val_loss: 0.0475 - val_accuracy: 0.9897\n",
      "Epoch 8/20\n",
      "422/422 [==============================] - 10s 24ms/step - loss: 0.0087 - accuracy: 0.9971 - val_loss: 0.0526 - val_accuracy: 0.9888\n",
      "Epoch 9/20\n",
      "422/422 [==============================] - 10s 24ms/step - loss: 0.0066 - accuracy: 0.9979 - val_loss: 0.0480 - val_accuracy: 0.9903\n",
      "Epoch 10/20\n",
      "422/422 [==============================] - 10s 24ms/step - loss: 0.0046 - accuracy: 0.9984 - val_loss: 0.0576 - val_accuracy: 0.9887\n",
      "Epoch 11/20\n",
      "422/422 [==============================] - 10s 24ms/step - loss: 0.0038 - accuracy: 0.9988 - val_loss: 0.0492 - val_accuracy: 0.9900\n",
      "Epoch 12/20\n",
      "422/422 [==============================] - 10s 25ms/step - loss: 0.0029 - accuracy: 0.9992 - val_loss: 0.0509 - val_accuracy: 0.9912\n",
      "Epoch 13/20\n",
      "422/422 [==============================] - 10s 24ms/step - loss: 0.0023 - accuracy: 0.9992 - val_loss: 0.0650 - val_accuracy: 0.9887\n",
      "Epoch 14/20\n",
      "422/422 [==============================] - 11s 26ms/step - loss: 0.0023 - accuracy: 0.9993 - val_loss: 0.0588 - val_accuracy: 0.9907\n",
      "Epoch 15/20\n",
      "422/422 [==============================] - 11s 26ms/step - loss: 0.0014 - accuracy: 0.9996 - val_loss: 0.0733 - val_accuracy: 0.9898\n",
      "Epoch 16/20\n",
      "422/422 [==============================] - 10s 24ms/step - loss: 0.0013 - accuracy: 0.9995 - val_loss: 0.0769 - val_accuracy: 0.9887\n",
      "Epoch 17/20\n",
      "422/422 [==============================] - 11s 27ms/step - loss: 9.9538e-04 - accuracy: 0.9996 - val_loss: 0.0773 - val_accuracy: 0.9897\n",
      "Epoch 18/20\n",
      "422/422 [==============================] - 10s 25ms/step - loss: 8.9834e-04 - accuracy: 0.9997 - val_loss: 0.0732 - val_accuracy: 0.9907\n",
      "Epoch 19/20\n",
      "422/422 [==============================] - 11s 25ms/step - loss: 3.8913e-04 - accuracy: 0.9999 - val_loss: 0.0726 - val_accuracy: 0.9903\n",
      "Epoch 20/20\n",
      "422/422 [==============================] - 11s 26ms/step - loss: 4.5922e-04 - accuracy: 0.9998 - val_loss: 0.0820 - val_accuracy: 0.9892\n"
     ]
    }
   ],
   "source": [
    "modelRMSprop = Sequential([\n",
    "    Conv2D(filters=32, kernel_size=(5,5), activation='relu', input_shape=(28,28,1)),\n",
    "    MaxPooling2D(pool_size=(2,2)),\n",
    "    Flatten(),\n",
    "    Dense(units=128, activation='relu'),\n",
    "    Dense(units=10, activation='softmax')\n",
    "])\n",
    "modelRMSprop.compile(optimizer=RMSprop(learning_rate=0.001), loss='sparse_categorical_crossentropy', metrics=['accuracy'])\n",
    "\n",
    "batch_size = 128\n",
    "n_epoch = 20\n",
    "history = modelRMSprop.fit(x_train, y_train, validation_split = 0.1, batch_size=batch_size, epochs=n_epoch)\n",
    "\n",
    "T = T.append(pd.DataFrame(history.history))"
   ]
  },
  {
   "cell_type": "code",
   "execution_count": 7,
   "metadata": {},
   "outputs": [],
   "source": [
    "T.to_csv(\"/Users/benjamintenmann/Desktop/CompBio/Assignments/DL_1/MNIST/hist_cnn.csv\")"
   ]
  },
  {
   "cell_type": "code",
   "execution_count": 8,
   "metadata": {},
   "outputs": [
    {
     "data": {
      "image/png": "[encoded data removed]",
      "text/plain": [
       "<IPython.core.display.Image object>"
      ]
     },
     "execution_count": 8,
     "metadata": {},
     "output_type": "execute_result"
    }
   ],
   "source": [
    "tf.keras.utils.plot_model(modelAdam, to_file='/Users/benjamintenmann/Desktop/CompBio/Assignments/DL_1/MNIST/model_3.1.png', rankdir='LR', show_shapes=True)"
   ]
  },
  {
   "cell_type": "code",
   "execution_count": 9,
   "metadata": {},
   "outputs": [],
   "source": [
    "yhat = modelAdam.predict(x_test)\n",
    "def f(yhat):\n",
    "    if sum(yhat) != 0:\n",
    "        r = np.where(yhat == 1)[0][0]\n",
    "        return r\n",
    "    else:\n",
    "        pass\n",
    "ls = list(map(f, np.round(yhat)))\n",
    "l = []\n",
    "for i, y in enumerate(np.round(yhat)):\n",
    "    if sum(y) == 0:\n",
    "        l.append(i)\n",
    "def g(x):\n",
    "    return x != None\n",
    "f_ls = np.array(list(filter(g, ls)))\n",
    "npL = np.array(l)\n",
    "y_test_cut = np.array(y_test[np.in1d(np.arange(0, 10000), npL, invert=True)])\n",
    "counts = []\n",
    "for y in np.unique(y_test_cut):\n",
    "    count = [0]*10\n",
    "    for yhat in np.unique(f_ls):\n",
    "        new = f_ls[y_test_cut == y]\n",
    "        count[yhat] = len(new[new == yhat])\n",
    "    counts.append(count)"
   ]
  },
  {
   "cell_type": "code",
   "execution_count": 10,
   "metadata": {},
   "outputs": [
    {
     "name": "stdout",
     "output_type": "stream",
     "text": [
      "Figure(648x432)\n"
     ]
    },
    {
     "data": {
      "image/png": "[encoded data removed]",
      "text/plain": [
       "<Figure size 648x432 with 2 Axes>"
      ]
     },
     "metadata": {
      "needs_background": "light"
     },
     "output_type": "display_data"
    }
   ],
   "source": [
    "n = np.array(counts)\n",
    "\n",
    "f, ax = plt.subplots(figsize=(9, 6))\n",
    "\n",
    "ax = sns.heatmap(n, annot=True, ax=ax, fmt='d', linewidths=.5)\n",
    "ax.set(xlabel='yhat', ylabel='y')\n",
    "fig = ax.get_figure()\n",
    "fig.savefig('/Users/benjamintenmann/Desktop/CompBio/Assignments/DL_1/MNIST/heat_cnn.png', dpi=400)\n",
    "print(fig)"
   ]
  },
  {
   "cell_type": "code",
   "execution_count": 11,
   "metadata": {},
   "outputs": [
    {
     "name": "stdout",
     "output_type": "stream",
     "text": [
      "79/79 [==============================] - 1s 8ms/step - loss: 0.0467 - accuracy: 0.9892\n",
      "Adam: 0.04673745483160019 0.9891999959945679\n",
      "79/79 [==============================] - 1s 7ms/step - loss: 0.2186 - accuracy: 0.9387\n",
      "Adagrad: 0.21859011054039001 0.9387000203132629\n",
      "79/79 [==============================] - 1s 8ms/step - loss: 0.0725 - accuracy: 0.9892\n",
      "RMSprop: 0.07246769964694977 0.9891999959945679\n"
     ]
    }
   ],
   "source": [
    "val_dataset = tf.data.Dataset.from_tensor_slices((x_test, y_test)).batch(batch_size)\n",
    "loss, acc = modelAdam.evaluate(val_dataset)\n",
    "print(\"Adam:\", loss, acc)\n",
    "loss, acc = modelAdagrad.evaluate(val_dataset)\n",
    "print(\"Adagrad:\", loss, acc)\n",
    "loss, acc = modelRMSprop.evaluate(val_dataset)\n",
    "print(\"RMSprop:\", loss, acc)"
   ]
  },
  {
   "cell_type": "code",
   "execution_count": 12,
   "metadata": {},
   "outputs": [
    {
     "data": {
      "text/plain": [
       "3"
      ]
     },
     "execution_count": 12,
     "metadata": {},
     "output_type": "execute_result"
    }
   ],
   "source": [
    "len(l)"
   ]
  },
  {
   "cell_type": "code",
   "execution_count": 13,
   "metadata": {},
   "outputs": [
    {
     "data": {
      "text/plain": [
       "9891"
      ]
     },
     "execution_count": 13,
     "metadata": {},
     "output_type": "execute_result"
    }
   ],
   "source": [
    "np.sum(np.diagonal(n))"
   ]
  },
  {
   "cell_type": "code",
   "execution_count": 14,
   "metadata": {},
   "outputs": [
    {
     "data": {
      "text/plain": [
       "106"
      ]
     },
     "execution_count": 14,
     "metadata": {},
     "output_type": "execute_result"
    }
   ],
   "source": [
    "(10000 - 9891) - 3"
   ]
  },
  {
   "cell_type": "code",
   "execution_count": 18,
   "metadata": {},
   "outputs": [
    {
     "name": "stdout",
     "output_type": "stream",
     "text": [
      "Figure(648x432)\n"
     ]
    },
    {
     "data": {
      "image/png": "[encoded data removed]",
      "text/plain": [
       "<Figure size 648x432 with 1 Axes>"
      ]
     },
     "metadata": {},
     "output_type": "display_data"
    }
   ],
   "source": [
    "sns.set_theme()\n",
    "f, ax = plt.subplots(figsize=(9, 6))\n",
    "\n",
    "ax = sns.barplot(x=['perceptron', 'perceptron', 'MLP', 'MLP', 'CNN', 'CNN'], y=[561, 275, 162, 9, 106, 3], hue=['misclassified', 'unclassified']*3)\n",
    "ax.set(ylabel='number of digits')\n",
    "fig = ax.get_figure()\n",
    "fig.savefig('/Users/benjamintenmann/Desktop/CompBio/Assignments/DL_1/MNIST/err_barplot.png', dpi=400)\n",
    "print(fig)"
   ]
  },
  {
   "cell_type": "code",
   "execution_count": null,
   "metadata": {},
   "outputs": [],
   "source": []
  }
 ],
 "metadata": {
  "kernelspec": {
   "display_name": "Python 3",
   "language": "python",
   "name": "python3"
  },
  "language_info": {
   "codemirror_mode": {
    "name": "ipython",
    "version": 3
   },
   "file_extension": ".py",
   "mimetype": "text/x-python",
   "name": "python",
   "nbconvert_exporter": "python",
   "pygments_lexer": "ipython3",
   "version": "3.7.9"
  }
 },
 "nbformat": 4,
 "nbformat_minor": 4
}
