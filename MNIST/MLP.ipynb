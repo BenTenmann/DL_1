{
 "cells": [
  {
   "cell_type": "code",
   "execution_count": 1,
   "metadata": {},
   "outputs": [],
   "source": [
    "import numpy as np\n",
    "import tensorflow as tf\n",
    "from tensorflow import keras\n",
    "from tensorflow.keras.models import Sequential\n",
    "from tensorflow.keras.layers import Dense, Activation\n",
    "from tensorflow.keras.optimizers import Adam, Adagrad, RMSprop\n",
    "from tensorflow.keras.metrics import categorical_crossentropy\n",
    "import matplotlib.pyplot as plt\n",
    "import seaborn as sns\n",
    "import pandas as pd"
   ]
  },
  {
   "cell_type": "code",
   "execution_count": 2,
   "metadata": {},
   "outputs": [],
   "source": [
    "(x_train, y_train), (x_test, y_test) = keras.datasets.mnist.load_data()\n",
    "x_train = x_train.reshape((60000, 28*28))\n",
    "x_train = x_train / 255\n",
    "x_test = x_test.reshape((10000, 28*28))\n",
    "x_test = x_test / 255"
   ]
  },
  {
   "cell_type": "code",
   "execution_count": 4,
   "metadata": {
    "collapsed": true,
    "jupyter": {
     "outputs_hidden": true
    }
   },
   "outputs": [
    {
     "name": "stdout",
     "output_type": "stream",
     "text": [
      "Epoch 1/20\n",
      "422/422 [==============================] - 1s 2ms/step - loss: 0.2634 - accuracy: 0.9249 - val_loss: 0.1060 - val_accuracy: 0.9687\n",
      "Epoch 2/20\n",
      "422/422 [==============================] - 1s 2ms/step - loss: 0.0933 - accuracy: 0.9717 - val_loss: 0.0860 - val_accuracy: 0.9745\n",
      "Epoch 3/20\n",
      "422/422 [==============================] - 1s 2ms/step - loss: 0.0590 - accuracy: 0.9821 - val_loss: 0.0723 - val_accuracy: 0.9778\n",
      "Epoch 4/20\n",
      "422/422 [==============================] - 1s 2ms/step - loss: 0.0419 - accuracy: 0.9863 - val_loss: 0.0737 - val_accuracy: 0.9767\n",
      "Epoch 5/20\n",
      "422/422 [==============================] - 1s 2ms/step - loss: 0.0293 - accuracy: 0.9904 - val_loss: 0.0746 - val_accuracy: 0.9795\n",
      "Epoch 6/20\n",
      "422/422 [==============================] - 1s 2ms/step - loss: 0.0224 - accuracy: 0.9929 - val_loss: 0.0727 - val_accuracy: 0.9810\n",
      "Epoch 7/20\n",
      "422/422 [==============================] - 1s 2ms/step - loss: 0.0203 - accuracy: 0.9930 - val_loss: 0.0715 - val_accuracy: 0.9805\n",
      "Epoch 8/20\n",
      "422/422 [==============================] - 1s 2ms/step - loss: 0.0160 - accuracy: 0.9947 - val_loss: 0.1012 - val_accuracy: 0.9765\n",
      "Epoch 9/20\n",
      "422/422 [==============================] - 1s 2ms/step - loss: 0.0111 - accuracy: 0.9961 - val_loss: 0.0904 - val_accuracy: 0.9808\n",
      "Epoch 10/20\n",
      "422/422 [==============================] - 1s 2ms/step - loss: 0.0135 - accuracy: 0.9955 - val_loss: 0.0972 - val_accuracy: 0.9778\n",
      "Epoch 11/20\n",
      "422/422 [==============================] - 1s 2ms/step - loss: 0.0115 - accuracy: 0.9963 - val_loss: 0.0810 - val_accuracy: 0.9797\n",
      "Epoch 12/20\n",
      "422/422 [==============================] - 1s 2ms/step - loss: 0.0123 - accuracy: 0.9961 - val_loss: 0.0849 - val_accuracy: 0.9812\n",
      "Epoch 13/20\n",
      "422/422 [==============================] - 1s 2ms/step - loss: 0.0092 - accuracy: 0.9971 - val_loss: 0.0869 - val_accuracy: 0.9810\n",
      "Epoch 14/20\n",
      "422/422 [==============================] - 1s 2ms/step - loss: 0.0086 - accuracy: 0.9972 - val_loss: 0.0918 - val_accuracy: 0.9815\n",
      "Epoch 15/20\n",
      "422/422 [==============================] - 1s 2ms/step - loss: 0.0094 - accuracy: 0.9968 - val_loss: 0.1133 - val_accuracy: 0.9778\n",
      "Epoch 16/20\n",
      "422/422 [==============================] - 1s 2ms/step - loss: 0.0071 - accuracy: 0.9977 - val_loss: 0.0796 - val_accuracy: 0.9857\n",
      "Epoch 17/20\n",
      "422/422 [==============================] - 1s 2ms/step - loss: 0.0083 - accuracy: 0.9972 - val_loss: 0.1132 - val_accuracy: 0.9798\n",
      "Epoch 18/20\n",
      "422/422 [==============================] - 1s 2ms/step - loss: 0.0096 - accuracy: 0.9968 - val_loss: 0.0989 - val_accuracy: 0.9827\n",
      "Epoch 19/20\n",
      "422/422 [==============================] - 1s 2ms/step - loss: 0.0074 - accuracy: 0.9976 - val_loss: 0.0863 - val_accuracy: 0.9830\n",
      "Epoch 20/20\n",
      "422/422 [==============================] - 1s 2ms/step - loss: 0.0045 - accuracy: 0.9986 - val_loss: 0.0848 - val_accuracy: 0.9837\n"
     ]
    }
   ],
   "source": [
    "modelAdam = Sequential([\n",
    "    Dense(units=400, activation='relu', input_shape=(784,)),\n",
    "    Dense(units=200, activation='relu'),\n",
    "    Dense(units=10, activation='softmax')\n",
    "])\n",
    "modelAdam.compile(optimizer=Adam(learning_rate=0.001), loss='sparse_categorical_crossentropy', metrics=['accuracy'])\n",
    "\n",
    "batch_size = 128\n",
    "n_epoch = 20\n",
    "history = modelAdam.fit(x_train, y_train, validation_split = 0.1, batch_size=batch_size, epochs=n_epoch)\n",
    "\n",
    "T = pd.DataFrame(history.history)"
   ]
  },
  {
   "cell_type": "code",
   "execution_count": 5,
   "metadata": {
    "collapsed": true,
    "jupyter": {
     "outputs_hidden": true
    }
   },
   "outputs": [
    {
     "name": "stdout",
     "output_type": "stream",
     "text": [
      "Epoch 1/20\n",
      "422/422 [==============================] - 1s 2ms/step - loss: 1.8530 - accuracy: 0.5449 - val_loss: 1.3632 - val_accuracy: 0.7418\n",
      "Epoch 2/20\n",
      "422/422 [==============================] - 1s 2ms/step - loss: 1.0873 - accuracy: 0.7727 - val_loss: 0.7917 - val_accuracy: 0.8505\n",
      "Epoch 3/20\n",
      "422/422 [==============================] - 1s 2ms/step - loss: 0.7356 - accuracy: 0.8344 - val_loss: 0.5718 - val_accuracy: 0.8818\n",
      "Epoch 4/20\n",
      "422/422 [==============================] - 1s 2ms/step - loss: 0.5875 - accuracy: 0.8586 - val_loss: 0.4686 - val_accuracy: 0.8960\n",
      "Epoch 5/20\n",
      "422/422 [==============================] - 1s 2ms/step - loss: 0.5090 - accuracy: 0.8725 - val_loss: 0.4093 - val_accuracy: 0.9060\n",
      "Epoch 6/20\n",
      "422/422 [==============================] - 1s 2ms/step - loss: 0.4604 - accuracy: 0.8818 - val_loss: 0.3717 - val_accuracy: 0.9105\n",
      "Epoch 7/20\n",
      "422/422 [==============================] - 1s 2ms/step - loss: 0.4270 - accuracy: 0.8882 - val_loss: 0.3457 - val_accuracy: 0.9132\n",
      "Epoch 8/20\n",
      "422/422 [==============================] - 1s 2ms/step - loss: 0.4025 - accuracy: 0.8931 - val_loss: 0.3259 - val_accuracy: 0.9165\n",
      "Epoch 9/20\n",
      "422/422 [==============================] - 1s 2ms/step - loss: 0.3834 - accuracy: 0.8970 - val_loss: 0.3110 - val_accuracy: 0.9193\n",
      "Epoch 10/20\n",
      "422/422 [==============================] - 1s 2ms/step - loss: 0.3680 - accuracy: 0.9002 - val_loss: 0.2988 - val_accuracy: 0.9195\n",
      "Epoch 11/20\n",
      "422/422 [==============================] - 1s 2ms/step - loss: 0.3551 - accuracy: 0.9030 - val_loss: 0.2882 - val_accuracy: 0.9217\n",
      "Epoch 12/20\n",
      "422/422 [==============================] - 1s 2ms/step - loss: 0.3442 - accuracy: 0.9047 - val_loss: 0.2795 - val_accuracy: 0.9245\n",
      "Epoch 13/20\n",
      "422/422 [==============================] - 1s 2ms/step - loss: 0.3347 - accuracy: 0.9071 - val_loss: 0.2723 - val_accuracy: 0.9245\n",
      "Epoch 14/20\n",
      "422/422 [==============================] - 1s 2ms/step - loss: 0.3261 - accuracy: 0.9089 - val_loss: 0.2661 - val_accuracy: 0.9257\n",
      "Epoch 15/20\n",
      "422/422 [==============================] - 1s 2ms/step - loss: 0.3185 - accuracy: 0.9104 - val_loss: 0.2598 - val_accuracy: 0.9268\n",
      "Epoch 16/20\n",
      "422/422 [==============================] - 1s 2ms/step - loss: 0.3116 - accuracy: 0.9123 - val_loss: 0.2542 - val_accuracy: 0.9290\n",
      "Epoch 17/20\n",
      "422/422 [==============================] - 1s 2ms/step - loss: 0.3053 - accuracy: 0.9137 - val_loss: 0.2491 - val_accuracy: 0.9293\n",
      "Epoch 18/20\n",
      "422/422 [==============================] - 1s 2ms/step - loss: 0.2995 - accuracy: 0.9152 - val_loss: 0.2446 - val_accuracy: 0.9310\n",
      "Epoch 19/20\n",
      "422/422 [==============================] - 1s 2ms/step - loss: 0.2941 - accuracy: 0.9169 - val_loss: 0.2401 - val_accuracy: 0.9328\n",
      "Epoch 20/20\n",
      "422/422 [==============================] - 1s 2ms/step - loss: 0.2890 - accuracy: 0.9181 - val_loss: 0.2361 - val_accuracy: 0.9330\n"
     ]
    }
   ],
   "source": [
    "modelAdagrad = Sequential([\n",
    "    Dense(units=400, activation='relu', input_shape=(784,)),\n",
    "    Dense(units=200, activation='relu'),\n",
    "    Dense(units=10, activation='softmax')\n",
    "])\n",
    "modelAdagrad.compile(optimizer=Adagrad(learning_rate=0.001), loss='sparse_categorical_crossentropy', metrics=['accuracy'])\n",
    "\n",
    "batch_size = 128\n",
    "n_epoch = 20\n",
    "history = modelAdagrad.fit(x_train, y_train, validation_split = 0.1, batch_size=batch_size, epochs=n_epoch)\n",
    "\n",
    "T = T.append(pd.DataFrame(history.history))"
   ]
  },
  {
   "cell_type": "code",
   "execution_count": 6,
   "metadata": {
    "collapsed": true,
    "jupyter": {
     "outputs_hidden": true
    }
   },
   "outputs": [
    {
     "name": "stdout",
     "output_type": "stream",
     "text": [
      "Epoch 1/20\n",
      "422/422 [==============================] - 1s 3ms/step - loss: 0.2500 - accuracy: 0.9245 - val_loss: 0.1115 - val_accuracy: 0.9658\n",
      "Epoch 2/20\n",
      "422/422 [==============================] - 1s 3ms/step - loss: 0.0917 - accuracy: 0.9713 - val_loss: 0.0763 - val_accuracy: 0.9753\n",
      "Epoch 3/20\n",
      "422/422 [==============================] - 1s 2ms/step - loss: 0.0607 - accuracy: 0.9813 - val_loss: 0.0662 - val_accuracy: 0.9803\n",
      "Epoch 4/20\n",
      "422/422 [==============================] - 1s 2ms/step - loss: 0.0427 - accuracy: 0.9865 - val_loss: 0.0700 - val_accuracy: 0.9813\n",
      "Epoch 5/20\n",
      "422/422 [==============================] - 1s 2ms/step - loss: 0.0311 - accuracy: 0.9904 - val_loss: 0.0858 - val_accuracy: 0.9778\n",
      "Epoch 6/20\n",
      "422/422 [==============================] - 1s 2ms/step - loss: 0.0243 - accuracy: 0.9921 - val_loss: 0.1083 - val_accuracy: 0.9737\n",
      "Epoch 7/20\n",
      "422/422 [==============================] - 1s 2ms/step - loss: 0.0189 - accuracy: 0.9938 - val_loss: 0.0871 - val_accuracy: 0.9805\n",
      "Epoch 8/20\n",
      "422/422 [==============================] - 1s 3ms/step - loss: 0.0134 - accuracy: 0.9956 - val_loss: 0.0865 - val_accuracy: 0.9812\n",
      "Epoch 9/20\n",
      "422/422 [==============================] - 1s 3ms/step - loss: 0.0126 - accuracy: 0.9960 - val_loss: 0.0988 - val_accuracy: 0.9825\n",
      "Epoch 10/20\n",
      "422/422 [==============================] - 1s 3ms/step - loss: 0.0096 - accuracy: 0.9971 - val_loss: 0.1106 - val_accuracy: 0.9813\n",
      "Epoch 11/20\n",
      "422/422 [==============================] - 1s 3ms/step - loss: 0.0083 - accuracy: 0.9974 - val_loss: 0.1136 - val_accuracy: 0.9832\n",
      "Epoch 12/20\n",
      "422/422 [==============================] - 1s 3ms/step - loss: 0.0082 - accuracy: 0.9974 - val_loss: 0.1189 - val_accuracy: 0.9805\n",
      "Epoch 13/20\n",
      "422/422 [==============================] - 1s 3ms/step - loss: 0.0073 - accuracy: 0.9978 - val_loss: 0.1103 - val_accuracy: 0.9845\n",
      "Epoch 14/20\n",
      "422/422 [==============================] - 1s 3ms/step - loss: 0.0054 - accuracy: 0.9984 - val_loss: 0.1221 - val_accuracy: 0.9833\n",
      "Epoch 15/20\n",
      "422/422 [==============================] - 1s 3ms/step - loss: 0.0045 - accuracy: 0.9983 - val_loss: 0.1303 - val_accuracy: 0.9807\n",
      "Epoch 16/20\n",
      "422/422 [==============================] - 1s 3ms/step - loss: 0.0050 - accuracy: 0.9986 - val_loss: 0.1338 - val_accuracy: 0.9835\n",
      "Epoch 17/20\n",
      "422/422 [==============================] - 1s 3ms/step - loss: 0.0041 - accuracy: 0.9986 - val_loss: 0.1464 - val_accuracy: 0.9825\n",
      "Epoch 18/20\n",
      "422/422 [==============================] - 1s 3ms/step - loss: 0.0047 - accuracy: 0.9986 - val_loss: 0.1475 - val_accuracy: 0.9830\n",
      "Epoch 19/20\n",
      "422/422 [==============================] - 1s 3ms/step - loss: 0.0035 - accuracy: 0.9990 - val_loss: 0.1563 - val_accuracy: 0.9830\n",
      "Epoch 20/20\n",
      "422/422 [==============================] - 1s 3ms/step - loss: 0.0037 - accuracy: 0.9989 - val_loss: 0.1532 - val_accuracy: 0.9838\n"
     ]
    }
   ],
   "source": [
    "modelRMSprop = Sequential([\n",
    "    Dense(units=400, activation='relu', input_shape=(784,)),\n",
    "    Dense(units=200, activation='relu'),\n",
    "    Dense(units=10, activation='softmax')\n",
    "])\n",
    "modelRMSprop.compile(optimizer=RMSprop(learning_rate=0.001), loss='sparse_categorical_crossentropy', metrics=['accuracy'])\n",
    "\n",
    "batch_size = 128\n",
    "n_epoch = 20\n",
    "history = modelRMSprop.fit(x_train, y_train, validation_split = 0.1, batch_size=batch_size, epochs=n_epoch)\n",
    "\n",
    "T = T.append(pd.DataFrame(history.history))"
   ]
  },
  {
   "cell_type": "code",
   "execution_count": 7,
   "metadata": {},
   "outputs": [],
   "source": [
    "T.to_csv(\"/Users/benjamintenmann/Desktop/CompBio/Assignments/DL_1/MNIST/hist_mlp2.csv\")"
   ]
  },
  {
   "cell_type": "code",
   "execution_count": 9,
   "metadata": {},
   "outputs": [
    {
     "data": {
      "image/png": "[encoded data removed]",
      "text/plain": [
       "<IPython.core.display.Image object>"
      ]
     },
     "execution_count": 9,
     "metadata": {},
     "output_type": "execute_result"
    }
   ],
   "source": [
    "tf.keras.utils.plot_model(modelAdam, to_file='/Users/benjamintenmann/Desktop/CompBio/Assignments/DL_1/MNIST/model_2.1.png', rankdir='LR', show_shapes=True)"
   ]
  },
  {
   "cell_type": "code",
   "execution_count": 10,
   "metadata": {},
   "outputs": [],
   "source": [
    "yhat = modelAdam.predict(x_test)\n",
    "def f(yhat):\n",
    "    if sum(yhat) != 0:\n",
    "        r = np.where(yhat == 1)[0][0]\n",
    "        return r\n",
    "    else:\n",
    "        pass\n",
    "ls = list(map(f, np.round(yhat)))\n",
    "l = []\n",
    "for i, y in enumerate(np.round(yhat)):\n",
    "    if sum(y) == 0:\n",
    "        l.append(i)\n",
    "def g(x):\n",
    "    return x != None\n",
    "f_ls = np.array(list(filter(g, ls)))\n",
    "npL = np.array(l)\n",
    "y_test_cut = np.array(y_test[np.in1d(np.arange(0, 10000), npL, invert=True)])\n",
    "counts = []\n",
    "for y in np.unique(y_test_cut):\n",
    "    count = [0]*10\n",
    "    for yhat in np.unique(f_ls):\n",
    "        new = f_ls[y_test_cut == y]\n",
    "        count[yhat] = len(new[new == yhat])\n",
    "    counts.append(count)"
   ]
  },
  {
   "cell_type": "code",
   "execution_count": 11,
   "metadata": {},
   "outputs": [
    {
     "name": "stdout",
     "output_type": "stream",
     "text": [
      "Figure(648x432)\n"
     ]
    },
    {
     "data": {
      "image/png": "[encoded data removed]",
      "text/plain": [
       "<Figure size 648x432 with 2 Axes>"
      ]
     },
     "metadata": {
      "needs_background": "light"
     },
     "output_type": "display_data"
    }
   ],
   "source": [
    "n = np.array(counts)\n",
    "\n",
    "f, ax = plt.subplots(figsize=(9, 6))\n",
    "\n",
    "ax = sns.heatmap(n, annot=True, ax=ax, fmt='d', linewidths=.5)\n",
    "ax.set(xlabel='yhat', ylabel='y')\n",
    "fig = ax.get_figure()\n",
    "fig.savefig('/Users/benjamintenmann/Desktop/CompBio/Assignments/DL_1/MNIST/heat_mlp.png', dpi=400)\n",
    "print(fig)"
   ]
  },
  {
   "cell_type": "code",
   "execution_count": 12,
   "metadata": {},
   "outputs": [
    {
     "name": "stdout",
     "output_type": "stream",
     "text": [
      "79/79 [==============================] - 0s 2ms/step - loss: 0.0894 - accuracy: 0.9834\n",
      "Adam: 0.0893612876534462 0.9833999872207642\n",
      "79/79 [==============================] - 0s 1ms/step - loss: 0.2724 - accuracy: 0.9219\n",
      "Adagrad: 0.272418737411499 0.9218999743461609\n",
      "79/79 [==============================] - 0s 1ms/step - loss: 0.1420 - accuracy: 0.9817\n",
      "RMSprop: 0.1420336812734604 0.9817000031471252\n"
     ]
    }
   ],
   "source": [
    "val_dataset = tf.data.Dataset.from_tensor_slices((x_test, y_test)).batch(batch_size)\n",
    "loss, acc = modelAdam.evaluate(val_dataset)\n",
    "print(\"Adam:\", loss, acc)\n",
    "loss, acc = modelAdagrad.evaluate(val_dataset)\n",
    "print(\"Adagrad:\", loss, acc)\n",
    "loss, acc = modelRMSprop.evaluate(val_dataset)\n",
    "print(\"RMSprop:\", loss, acc)"
   ]
  },
  {
   "cell_type": "code",
   "execution_count": 13,
   "metadata": {},
   "outputs": [
    {
     "data": {
      "text/plain": [
       "9"
      ]
     },
     "execution_count": 13,
     "metadata": {},
     "output_type": "execute_result"
    }
   ],
   "source": [
    "len(l)"
   ]
  },
  {
   "cell_type": "code",
   "execution_count": 14,
   "metadata": {},
   "outputs": [
    {
     "data": {
      "text/plain": [
       "9829"
      ]
     },
     "execution_count": 14,
     "metadata": {},
     "output_type": "execute_result"
    }
   ],
   "source": [
    "np.sum(np.diagonal(n))"
   ]
  },
  {
   "cell_type": "code",
   "execution_count": 15,
   "metadata": {},
   "outputs": [
    {
     "data": {
      "text/plain": [
       "162"
      ]
     },
     "execution_count": 15,
     "metadata": {},
     "output_type": "execute_result"
    }
   ],
   "source": [
    "(10000 - 9829) - 9"
   ]
  },
  {
   "cell_type": "code",
   "execution_count": null,
   "metadata": {},
   "outputs": [],
   "source": []
  }
 ],
 "metadata": {
  "kernelspec": {
   "display_name": "Python 3",
   "language": "python",
   "name": "python3"
  },
  "language_info": {
   "codemirror_mode": {
    "name": "ipython",
    "version": 3
   },
   "file_extension": ".py",
   "mimetype": "text/x-python",
   "name": "python",
   "nbconvert_exporter": "python",
   "pygments_lexer": "ipython3",
   "version": "3.7.9"
  }
 },
 "nbformat": 4,
 "nbformat_minor": 4
}
